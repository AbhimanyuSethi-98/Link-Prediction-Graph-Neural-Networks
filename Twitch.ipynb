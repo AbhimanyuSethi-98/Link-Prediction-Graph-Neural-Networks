{
  "nbformat": 4,
  "nbformat_minor": 0,
  "metadata": {
    "colab": {
      "name": "Untitled3.ipynb",
      "provenance": [],
      "collapsed_sections": [],
      "mount_file_id": "1msWMSk6do0VkgIsIbSMwvtWW1HJF_tlK",
      "authorship_tag": "ABX9TyPXvyyc5sZ1uqwbYeBsvHNf",
      "include_colab_link": true
    },
    "kernelspec": {
      "name": "python3",
      "display_name": "Python 3"
    }
  },
  "cells": [
    {
      "cell_type": "markdown",
      "metadata": {
        "id": "view-in-github",
        "colab_type": "text"
      },
      "source": [
        "<a href=\"https://colab.research.google.com/github/gollum-98/Link-Prediction-Graph-Neural-Networks/blob/master/Twitch.ipynb\" target=\"_parent\"><img src=\"https://colab.research.google.com/assets/colab-badge.svg\" alt=\"Open In Colab\"/></a>"
      ]
    },
    {
      "cell_type": "code",
      "metadata": {
        "id": "ip8yyRqxNeeF",
        "colab_type": "code",
        "colab": {}
      },
      "source": [
        "#Importing the necessary packages\n",
        "import csv\n",
        "import numpy as np\n",
        "import matplotlib.pyplot as plt\n",
        "import networkx as nx\n",
        "import pandas as pd\n",
        "import json"
      ],
      "execution_count": 39,
      "outputs": []
    },
    {
      "cell_type": "code",
      "metadata": {
        "id": "5g2g3Ts-EwFY",
        "colab_type": "code",
        "colab": {
          "base_uri": "https://localhost:8080/",
          "height": 34
        },
        "outputId": "a9c04b9d-451d-4ad3-a4cb-2ff2d30dc06d"
      },
      "source": [
        "with open(\"/content/drive/My Drive/twitch/ENGB/musae_ENGB_features.json\") as ft:\n",
        "  #Loading the features dataset into ft_ds\n",
        "  ft_ds = json.load(ft)\n",
        "  #Sample feature vector\n",
        "  print(ft_ds['7125'])"
      ],
      "execution_count": 40,
      "outputs": [
        {
          "output_type": "stream",
          "text": [
            "[1640, 3152, 865, 507, 48, 861, 920, 224, 2798, 606, 1195, 1895, 2936, 3054, 2384, 2362, 2656, 436, 1028, 1147, 2178]\n"
          ],
          "name": "stdout"
        }
      ]
    },
    {
      "cell_type": "code",
      "metadata": {
        "id": "QMeTaLEaNn6q",
        "colab_type": "code",
        "colab": {
          "base_uri": "https://localhost:8080/",
          "height": 204
        },
        "outputId": "1fe2b6da-6b20-448f-c92b-c9b77cac88a8"
      },
      "source": [
        "#Reading the csv edge file\n",
        "df = pd.read_csv(\"/content/drive/My Drive/twitch/ENGB/musae_ENGB_edges.csv\")\n",
        "df.head()"
      ],
      "execution_count": 41,
      "outputs": [
        {
          "output_type": "execute_result",
          "data": {
            "text/html": [
              "<div>\n",
              "<style scoped>\n",
              "    .dataframe tbody tr th:only-of-type {\n",
              "        vertical-align: middle;\n",
              "    }\n",
              "\n",
              "    .dataframe tbody tr th {\n",
              "        vertical-align: top;\n",
              "    }\n",
              "\n",
              "    .dataframe thead th {\n",
              "        text-align: right;\n",
              "    }\n",
              "</style>\n",
              "<table border=\"1\" class=\"dataframe\">\n",
              "  <thead>\n",
              "    <tr style=\"text-align: right;\">\n",
              "      <th></th>\n",
              "      <th>from</th>\n",
              "      <th>to</th>\n",
              "    </tr>\n",
              "  </thead>\n",
              "  <tbody>\n",
              "    <tr>\n",
              "      <th>0</th>\n",
              "      <td>6194</td>\n",
              "      <td>255</td>\n",
              "    </tr>\n",
              "    <tr>\n",
              "      <th>1</th>\n",
              "      <td>6194</td>\n",
              "      <td>980</td>\n",
              "    </tr>\n",
              "    <tr>\n",
              "      <th>2</th>\n",
              "      <td>6194</td>\n",
              "      <td>2992</td>\n",
              "    </tr>\n",
              "    <tr>\n",
              "      <th>3</th>\n",
              "      <td>6194</td>\n",
              "      <td>2507</td>\n",
              "    </tr>\n",
              "    <tr>\n",
              "      <th>4</th>\n",
              "      <td>6194</td>\n",
              "      <td>986</td>\n",
              "    </tr>\n",
              "  </tbody>\n",
              "</table>\n",
              "</div>"
            ],
            "text/plain": [
              "   from    to\n",
              "0  6194   255\n",
              "1  6194   980\n",
              "2  6194  2992\n",
              "3  6194  2507\n",
              "4  6194   986"
            ]
          },
          "metadata": {
            "tags": []
          },
          "execution_count": 41
        }
      ]
    },
    {
      "cell_type": "code",
      "metadata": {
        "id": "ZEa4pyFsOEc3",
        "colab_type": "code",
        "colab": {
          "base_uri": "https://localhost:8080/",
          "height": 102
        },
        "outputId": "5d0a2dd0-3f9f-4891-c82f-b23695243914"
      },
      "source": [
        "#saving the edges (training) data by removing the headers and indexes\n",
        "df.to_csv('../content/train_woheader.csv',header=False,index=False)\n",
        "#storing the list of edges in a variable \n",
        "g=nx.read_edgelist('../content/train_woheader.csv',delimiter=',',nodetype=int)\n",
        "#printing the information of graph\n",
        "print(nx.info(g))"
      ],
      "execution_count": 42,
      "outputs": [
        {
          "output_type": "stream",
          "text": [
            "Name: \n",
            "Type: Graph\n",
            "Number of nodes: 7126\n",
            "Number of edges: 35324\n",
            "Average degree:   9.9141\n"
          ],
          "name": "stdout"
        }
      ]
    },
    {
      "cell_type": "code",
      "metadata": {
        "id": "Qhfi_YbXQy8g",
        "colab_type": "code",
        "colab": {
          "base_uri": "https://localhost:8080/",
          "height": 404
        },
        "outputId": "aec56764-efb4-4167-b44a-62a819cf7a72"
      },
      "source": [
        "#creating a sample of 10 data points for visualization\n",
        "pd.read_csv(\"/content/drive/My Drive/twitch/ENGB/musae_ENGB_edges.csv\",nrows=10).to_csv('/content/train_woheader_sample.csv',header=False,index=False)\n",
        "#reading the edgelist in a variable using networkX\n",
        "subgraph=nx.read_edgelist('/content/train_woheader_sample.csv',delimiter=',',nodetype=int)\n",
        "#plotting the graph\n",
        "pos=nx.spring_layout(subgraph)\n",
        "nx.draw(subgraph,pos,node_color='#A0CBE2',edge_color='#00bb5e',width=1,edge_cmap=plt.cm.Blues,with_labels=True)\n",
        "plt.savefig(\"graph_sample.pdf\")\n",
        "print(nx.info(subgraph))"
      ],
      "execution_count": 43,
      "outputs": [
        {
          "output_type": "stream",
          "text": [
            "Name: \n",
            "Type: Graph\n",
            "Number of nodes: 13\n",
            "Number of edges: 10\n",
            "Average degree:   1.5385\n"
          ],
          "name": "stdout"
        },
        {
          "output_type": "display_data",
          "data": {
            "image/png": "[encoded data removed]",
            "text/plain": [
              "<Figure size 432x288 with 1 Axes>"
            ]
          },
          "metadata": {
            "tags": []
          }
        }
      ]
    },
    {
      "cell_type": "code",
      "metadata": {
        "id": "MK_hOKgAbM8J",
        "colab_type": "code",
        "colab": {
          "base_uri": "https://localhost:8080/",
          "height": 51
        },
        "outputId": "1051c8db-bb68-4f70-9b7e-da816186e376"
      },
      "source": [
        "%%time\n",
        "###generating missing edges from given graph\n",
        "### This is important as we have to create a balanced training data (not skewed)\n",
        "import random\n",
        "#getting all set of edges\n",
        "r = csv.reader(open('/content/train_woheader.csv','r'))\n",
        "#the dict will contain a tuple of 2 nodes as key and the value will be 1 if the nodes are connected else -1\n",
        "edges = dict()\n",
        "for edge in r:\n",
        "\tedges[(edge[0], edge[1])] = 1    ###Setting labels to be 1 as the value in the dictionary for the existent edges\n",
        "    \n",
        "missing_edges = set([])\n",
        "while (len(missing_edges)<35324):\n",
        "\ta=random.randint(0, 7125)        ###  Selecting 2 nodes at random\n",
        "\tb=random.randint(0, 7125)\n",
        "\ttmp = edges.get((a,b),0)             ###  tmp=1 if the edge exists between a and b else tmp=0\n",
        "\tif tmp == 0 and a!=b:\n",
        "\t\ttry:\n",
        "            # adding points who are less likely to be linked,i.e, don't have a common node\n",
        "\t\t\tif nx.shortest_path_length(g,source=a,target=b) > 2: \n",
        "\n",
        "\t\t\t\tmissing_edges.add((a,b))\n",
        "\t\t\telse:\n",
        "\t\t\t\tcontinue  \n",
        "\t\texcept:  \n",
        "\t\t\t\tmissing_edges.add((a,b))              \n",
        "\telse:\n",
        "\t\tcontinue"
      ],
      "execution_count": 44,
      "outputs": [
        {
          "output_type": "stream",
          "text": [
            "CPU times: user 2.41 s, sys: 2.6 ms, total: 2.41 s\n",
            "Wall time: 2.41 s\n"
          ],
          "name": "stdout"
        }
      ]
    },
    {
      "cell_type": "code",
      "metadata": {
        "id": "p0nZiDxQenoY",
        "colab_type": "code",
        "colab": {
          "base_uri": "https://localhost:8080/",
          "height": 34
        },
        "outputId": "b9fe54d2-63d5-4d4d-db32-9b4201b27295"
      },
      "source": [
        "print(len(missing_edges)) ### Can be seen to be the same number as existent edges"
      ],
      "execution_count": 45,
      "outputs": [
        {
          "output_type": "stream",
          "text": [
            "35324\n"
          ],
          "name": "stdout"
        }
      ]
    },
    {
      "cell_type": "code",
      "metadata": {
        "id": "AWCd_xRhhAXz",
        "colab_type": "code",
        "colab": {}
      },
      "source": [
        "#print(missing_edges)  ###pairs of nodes without edges to be used in the training data"
      ],
      "execution_count": 46,
      "outputs": []
    },
    {
      "cell_type": "code",
      "metadata": {
        "id": "UxI3Lk_YhC2k",
        "colab_type": "code",
        "colab": {}
      },
      "source": [
        "#print(edges)  ###Our dictionary of edges"
      ],
      "execution_count": 47,
      "outputs": []
    }
  ]
}